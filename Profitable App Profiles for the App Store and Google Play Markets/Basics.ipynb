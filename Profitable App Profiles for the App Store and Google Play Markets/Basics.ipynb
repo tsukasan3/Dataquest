{
 "cells": [
  {
   "cell_type": "markdown",
   "metadata": {},
   "source": [
    "# Analyzing Mobile App Data\n",
    "* apps dataを分析し、人気アプリに共通の特徴を見つける。\n",
    "* 開発者に、ユーザー獲得のために有益な分析結果を提示することが目的である。"
   ]
  },
  {
   "cell_type": "code",
   "execution_count": 1,
   "metadata": {
    "collapsed": false,
    "scrolled": true
   },
   "outputs": [],
   "source": [
    "from csv import reader\n",
    "\n",
    "#App Store data set\n",
    "open_file = open('AppleStore.csv') \n",
    "read_file = reader(open_file)\n",
    "ios = list(read_file)\n",
    "ios_header = ios[0]\n",
    "ios = ios[1:]\n",
    "\n",
    "#Google Play data set\n",
    "open_file = open('googleplaystore.csv') \n",
    "read_file = reader(open_file)\n",
    "android = list(read_file)\n",
    "android_header = android[0]\n",
    "android = android[1:]"
   ]
  },
  {
   "cell_type": "code",
   "execution_count": 2,
   "metadata": {
    "collapsed": false
   },
   "outputs": [],
   "source": [
    "def explore_data(dataset, start, end, rows_and_columns=False):\n",
    "    dataset_slice = dataset[start:end]    \n",
    "    for row in dataset_slice:\n",
    "        print(row)\n",
    "        print('\\n') # adds a new (empty) line after each row\n",
    "\n",
    "    if rows_and_columns:\n",
    "        print('Number of rows:', len(dataset))\n",
    "        print('Number of columns:', len(dataset[0]))"
   ]
  },
  {
   "cell_type": "code",
   "execution_count": 3,
   "metadata": {
    "collapsed": false
   },
   "outputs": [
    {
     "name": "stdout",
     "output_type": "stream",
     "text": [
      "['id', 'track_name', 'size_bytes', 'currency', 'price', 'rating_count_tot', 'rating_count_ver', 'user_rating', 'user_rating_ver', 'ver', 'cont_rating', 'prime_genre', 'sup_devices.num', 'ipadSc_urls.num', 'lang.num', 'vpp_lic']\n",
      "\n",
      "\n",
      "['389801252', 'Instagram', '113954816', 'USD', '0.0', '2161558', '1289', '4.5', '4.0', '10.23', '12+', 'Photo & Video', '37', '0', '29', '1']\n",
      "\n",
      "\n",
      "['529479190', 'Clash of Clans', '116476928', 'USD', '0.0', '2130805', '579', '4.5', '4.5', '9.24.12', '9+', 'Games', '38', '5', '18', '1']\n",
      "\n",
      "\n",
      "['420009108', 'Temple Run', '65921024', 'USD', '0.0', '1724546', '3842', '4.5', '4.0', '1.6.2', '9+', 'Games', '40', '5', '1', '1']\n",
      "\n",
      "\n",
      "Number of rows: 7197\n",
      "Number of columns: 16\n"
     ]
    }
   ],
   "source": [
    "print(ios_header)\n",
    "print('\\n')\n",
    "explore_data(ios, 1, 4, True)"
   ]
  },
  {
   "cell_type": "markdown",
   "metadata": {},
   "source": [
    "このデータセットには、7197個のiOSアプリがあり、カラム数は16である。16のカラムのうち、`'track_name'`, `'size_bytes'`, `'currency'`, `'price'`, `'rating_count_tot'`, `'rating_count_ver'`などは今回の分析に役立つであろう。"
   ]
  },
  {
   "cell_type": "code",
   "execution_count": 4,
   "metadata": {
    "collapsed": false
   },
   "outputs": [
    {
     "name": "stdout",
     "output_type": "stream",
     "text": [
      "['App', 'Category', 'Rating', 'Reviews', 'Size', 'Installs', 'Type', 'Price', 'Content Rating', 'Genres', 'Last Updated', 'Current Ver', 'Android Ver']\n",
      "\n",
      "\n",
      "['Coloring book moana', 'ART_AND_DESIGN', '3.9', '967', '14M', '500,000+', 'Free', '0', 'Everyone', 'Art & Design;Pretend Play', 'January 15, 2018', '2.0.0', '4.0.3 and up']\n",
      "\n",
      "\n",
      "['U Launcher Lite – FREE Live Cool Themes, Hide Apps', 'ART_AND_DESIGN', '4.7', '87510', '8.7M', '5,000,000+', 'Free', '0', 'Everyone', 'Art & Design', 'August 1, 2018', '1.2.4', '4.0.3 and up']\n",
      "\n",
      "\n",
      "['Sketch - Draw & Paint', 'ART_AND_DESIGN', '4.5', '215644', '25M', '50,000,000+', 'Free', '0', 'Teen', 'Art & Design', 'June 8, 2018', 'Varies with device', '4.2 and up']\n",
      "\n",
      "\n",
      "Number of rows: 10841\n",
      "Number of columns: 13\n"
     ]
    }
   ],
   "source": [
    "print(android_header)\n",
    "print('\\n')\n",
    "explore_data(android, 1, 4, True)"
   ]
  },
  {
   "cell_type": "markdown",
   "metadata": {},
   "source": [
    "このデータセットには、10841個のandroidアプリがあり、カラム数は13である。13のカラムのうち、`'App'`, `'Category'`, `'Rating'`, `'Reviews'`, `'Size'`, `'Installs'`,`'Price'`などは今回の分析に役立つであろう。"
   ]
  },
  {
   "cell_type": "markdown",
   "metadata": {
    "collapsed": true
   },
   "source": [
    "# Delete Wrong Data"
   ]
  },
  {
   "cell_type": "code",
   "execution_count": 5,
   "metadata": {
    "collapsed": false
   },
   "outputs": [
    {
     "name": "stdout",
     "output_type": "stream",
     "text": [
      "['Life Made WI-Fi Touchscreen Photo Frame', '1.9', '19', '3.0M', '1,000+', 'Free', '0', 'Everyone', '', 'February 11, 2018', '1.0.19', '4.0 and up']\n",
      "\n",
      "\n",
      "['App', 'Category', 'Rating', 'Reviews', 'Size', 'Installs', 'Type', 'Price', 'Content Rating', 'Genres', 'Last Updated', 'Current Ver', 'Android Ver']\n",
      "\n",
      "\n"
     ]
    }
   ],
   "source": [
    "#android apps\n",
    "print(android[10472])\n",
    "print('\\n')\n",
    "print(android_header)\n",
    "print('\\n')"
   ]
  },
  {
   "cell_type": "markdown",
   "metadata": {},
   "source": [
    "上の出力から、データセット中の`'Life Made WI-Fi Touchscreen Photo Frame'`の`'Rating'`が19であることがわかる。Google Play Storeの`'Rating'`は最大で5であるから、このデータは間違っている。したがって、データセットから取り除く。"
   ]
  },
  {
   "cell_type": "code",
   "execution_count": 6,
   "metadata": {
    "collapsed": false
   },
   "outputs": [
    {
     "name": "stdout",
     "output_type": "stream",
     "text": [
      "10841\n",
      "10840\n"
     ]
    }
   ],
   "source": [
    "print(len(android))\n",
    "del android[10472]\n",
    "print(len(android))"
   ]
  },
  {
   "cell_type": "code",
   "execution_count": 7,
   "metadata": {
    "collapsed": true
   },
   "outputs": [],
   "source": [
    "#iOS apps\n",
    "for row in ios:\n",
    "    if len(row) != len(ios_header): #To find wromg data\n",
    "        print(row)"
   ]
  },
  {
   "cell_type": "markdown",
   "metadata": {},
   "source": [
    "iOSのデータセット内に、カラム数が13以外のデータはない"
   ]
  },
  {
   "cell_type": "markdown",
   "metadata": {},
   "source": [
    "# Removing Duplicate Entries"
   ]
  },
  {
   "cell_type": "markdown",
   "metadata": {},
   "source": [
    "Google Play data setはいくつかの重複したエントリを含んでいる。例えば、Instagramは４つのエントリがある："
   ]
  },
  {
   "cell_type": "code",
   "execution_count": 8,
   "metadata": {
    "collapsed": false
   },
   "outputs": [
    {
     "name": "stdout",
     "output_type": "stream",
     "text": [
      "['Instagram', 'SOCIAL', '4.5', '66577313', 'Varies with device', '1,000,000,000+', 'Free', '0', 'Teen', 'Social', 'July 31, 2018', 'Varies with device', 'Varies with device']\n",
      "['Instagram', 'SOCIAL', '4.5', '66577446', 'Varies with device', '1,000,000,000+', 'Free', '0', 'Teen', 'Social', 'July 31, 2018', 'Varies with device', 'Varies with device']\n",
      "['Instagram', 'SOCIAL', '4.5', '66577313', 'Varies with device', '1,000,000,000+', 'Free', '0', 'Teen', 'Social', 'July 31, 2018', 'Varies with device', 'Varies with device']\n",
      "['Instagram', 'SOCIAL', '4.5', '66509917', 'Varies with device', '1,000,000,000+', 'Free', '0', 'Teen', 'Social', 'July 31, 2018', 'Varies with device', 'Varies with device']\n"
     ]
    }
   ],
   "source": [
    "for app in android:\n",
    "    name = app[0]\n",
    "    if name == 'Instagram':\n",
    "        print(app)"
   ]
  },
  {
   "cell_type": "code",
   "execution_count": 9,
   "metadata": {
    "collapsed": false
   },
   "outputs": [
    {
     "name": "stdout",
     "output_type": "stream",
     "text": [
      "Number of duplicate apps: 1181\n"
     ]
    }
   ],
   "source": [
    "duplicate_apps = []\n",
    "unique_apps = []\n",
    "for app in android:\n",
    "    name = app[0]\n",
    "    if name in unique_apps:\n",
    "        duplicate_apps.append(name)\n",
    "    else:\n",
    "        unique_apps.append(name)\n",
    "        \n",
    "print('Number of duplicate apps:', len(duplicate_apps))    "
   ]
  },
  {
   "cell_type": "markdown",
   "metadata": {},
   "source": [
    "Goolge Play data setは1181個のアプリが重複してエントリしている。\n",
    "重複したデータのうちから１つをランダムに抽出するのも１つの方法だが、より良い方法があると考える。重複をなくす方法を説明するために、再びInstagramを例にあげる。先にプリントされた4つのデータは4番目の値、すなわち、レビュー数がそれぞれ異なっている。これはデータが異なる時間に集められたことを示唆し、レビュー数が多いデータほど、より新しいデータであるはずである。\n",
    "以上より、無作為に抽出するのではなく、レビュー数の最も多いデータを取り出して、それ以外の重複したデータは除くこととする。"
   ]
  },
  {
   "cell_type": "markdown",
   "metadata": {},
   "source": [
    "まずdirectionaryの作成から始める。"
   ]
  },
  {
   "cell_type": "code",
   "execution_count": 10,
   "metadata": {
    "collapsed": false
   },
   "outputs": [
    {
     "name": "stdout",
     "output_type": "stream",
     "text": [
      "Expected length: 9659\n",
      "Actual lendth: 9659\n"
     ]
    }
   ],
   "source": [
    "reviews_max = {}\n",
    "\n",
    "for row in android:\n",
    "    name = row[0]\n",
    "    n_reviews = float(row[3])\n",
    "    if name in reviews_max and reviews_max[name] < n_reviews:\n",
    "        reviews_max[name] = n_reviews\n",
    "    elif name not in reviews_max:\n",
    "        reviews_max[name] = n_reviews\n",
    "\n",
    "print('Expected length:', len(android) - 1181)\n",
    "print('Actual lendth:', len(reviews_max))"
   ]
  },
  {
   "cell_type": "markdown",
   "metadata": {},
   "source": [
    "loopを用いてkeyをアプリ名、valueをレビュー数とするdirectionary`'review_max'`を作成した。\n",
    " `len(reviews_max)`=`len(android) - 1181`となった。"
   ]
  },
  {
   "cell_type": "code",
   "execution_count": 11,
   "metadata": {
    "collapsed": false
   },
   "outputs": [
    {
     "name": "stdout",
     "output_type": "stream",
     "text": [
      "['Photo Editor & Candy Camera & Grid & ScrapBook', 'ART_AND_DESIGN', '4.1', '159', '19M', '10,000+', 'Free', '0', 'Everyone', 'Art & Design', 'January 7, 2018', '1.0.0', '4.0.3 and up']\n",
      "\n",
      "\n",
      "['U Launcher Lite – FREE Live Cool Themes, Hide Apps', 'ART_AND_DESIGN', '4.7', '87510', '8.7M', '5,000,000+', 'Free', '0', 'Everyone', 'Art & Design', 'August 1, 2018', '1.2.4', '4.0.3 and up']\n",
      "\n",
      "\n",
      "['Sketch - Draw & Paint', 'ART_AND_DESIGN', '4.5', '215644', '25M', '50,000,000+', 'Free', '0', 'Teen', 'Art & Design', 'June 8, 2018', 'Varies with device', '4.2 and up']\n",
      "\n",
      "\n",
      "Number of rows: 9659\n",
      "Number of columns: 13\n"
     ]
    }
   ],
   "source": [
    "android_clean = []\n",
    "already_added = []\n",
    "\n",
    "for row in android:\n",
    "    name = row[0]\n",
    "    n_reviews = float(row[3])\n",
    "    if n_reviews == reviews_max[name] and name not in already_added:\n",
    "        android_clean.append(row)\n",
    "        already_added.append(name)\n",
    "        \n",
    "explore_data(android_clean, 0, 3, True)"
   ]
  },
  {
   "cell_type": "markdown",
   "metadata": {},
   "source": [
    "重複のないGoogle Play data setと、9659個のアプリ名の入ったリストを作成した。"
   ]
  },
  {
   "cell_type": "markdown",
   "metadata": {},
   "source": [
    "# Remove Non-English Apps"
   ]
  },
  {
   "cell_type": "code",
   "execution_count": 12,
   "metadata": {
    "collapsed": false
   },
   "outputs": [
    {
     "name": "stdout",
     "output_type": "stream",
     "text": [
      "True\n",
      "False\n",
      "True\n",
      "True\n"
     ]
    }
   ],
   "source": [
    "def check_string(a_string):\n",
    "    a_number_of_non_English = 0\n",
    "    for character in a_string:\n",
    "        \n",
    "        if ord(character) > 127:\n",
    "            a_number_of_non_English += 1\n",
    "    if a_number_of_non_English > 3:\n",
    "        return False\n",
    "    return True\n",
    "\n",
    "print(check_string('Instagram'))\n",
    "print(check_string('爱奇艺PPS -《欢乐颂2》电视剧热播'))\n",
    "print(check_string('Docs To Go™ Free Office Suite'))\n",
    "print(check_string('Instachat 😜'))"
   ]
  },
  {
   "cell_type": "markdown",
   "metadata": {},
   "source": [
    "😜や™ などのcorrespoding numbers over 127を含む有益なEnglish appsのデータも取得するために、タイトルに含まれるover127の文字が3つ以内であるアプリをEnglish appとみなすことにした。この関数は完璧ではないが、有効なものであると考える。"
   ]
  },
  {
   "cell_type": "code",
   "execution_count": 13,
   "metadata": {
    "collapsed": false
   },
   "outputs": [
    {
     "name": "stdout",
     "output_type": "stream",
     "text": [
      "['Photo Editor & Candy Camera & Grid & ScrapBook', 'ART_AND_DESIGN', '4.1', '159', '19M', '10,000+', 'Free', '0', 'Everyone', 'Art & Design', 'January 7, 2018', '1.0.0', '4.0.3 and up']\n",
      "\n",
      "\n",
      "['U Launcher Lite – FREE Live Cool Themes, Hide Apps', 'ART_AND_DESIGN', '4.7', '87510', '8.7M', '5,000,000+', 'Free', '0', 'Everyone', 'Art & Design', 'August 1, 2018', '1.2.4', '4.0.3 and up']\n",
      "\n",
      "\n",
      "['Sketch - Draw & Paint', 'ART_AND_DESIGN', '4.5', '215644', '25M', '50,000,000+', 'Free', '0', 'Teen', 'Art & Design', 'June 8, 2018', 'Varies with device', '4.2 and up']\n",
      "\n",
      "\n",
      "Number of rows: 9614\n",
      "Number of columns: 13\n",
      "\n",
      "\n",
      "['284882215', 'Facebook', '389879808', 'USD', '0.0', '2974676', '212', '3.5', '3.5', '95.0', '4+', 'Social Networking', '37', '1', '29', '1']\n",
      "\n",
      "\n",
      "['389801252', 'Instagram', '113954816', 'USD', '0.0', '2161558', '1289', '4.5', '4.0', '10.23', '12+', 'Photo & Video', '37', '0', '29', '1']\n",
      "\n",
      "\n",
      "['529479190', 'Clash of Clans', '116476928', 'USD', '0.0', '2130805', '579', '4.5', '4.5', '9.24.12', '9+', 'Games', '38', '5', '18', '1']\n",
      "\n",
      "\n",
      "Number of rows: 6183\n",
      "Number of columns: 16\n"
     ]
    }
   ],
   "source": [
    "android_English = []\n",
    "ios_English = []\n",
    "\n",
    "for app in android_clean:\n",
    "    if check_string(app[0]):\n",
    "        android_English.append(app)\n",
    "        \n",
    "for app in ios:\n",
    "    if check_string(app[1]):\n",
    "        ios_English.append(app)\n",
    "        \n",
    "explore_data(android_English, 0, 3, True)\n",
    "print('\\n')\n",
    "explore_data(ios_English, 0, 3, True)"
   ]
  },
  {
   "cell_type": "markdown",
   "metadata": {},
   "source": [
    "英語のアプリの数は、androidが9614、iOSが6183である"
   ]
  },
  {
   "cell_type": "markdown",
   "metadata": {},
   "source": [
    "# Isolating the Free Apps"
   ]
  },
  {
   "cell_type": "code",
   "execution_count": 14,
   "metadata": {
    "collapsed": false
   },
   "outputs": [
    {
     "name": "stdout",
     "output_type": "stream",
     "text": [
      "['Photo Editor & Candy Camera & Grid & ScrapBook', 'ART_AND_DESIGN', '4.1', '159', '19M', '10,000+', 'Free', '0', 'Everyone', 'Art & Design', 'January 7, 2018', '1.0.0', '4.0.3 and up']\n",
      "\n",
      "\n",
      "['U Launcher Lite – FREE Live Cool Themes, Hide Apps', 'ART_AND_DESIGN', '4.7', '87510', '8.7M', '5,000,000+', 'Free', '0', 'Everyone', 'Art & Design', 'August 1, 2018', '1.2.4', '4.0.3 and up']\n",
      "\n",
      "\n",
      "['Sketch - Draw & Paint', 'ART_AND_DESIGN', '4.5', '215644', '25M', '50,000,000+', 'Free', '0', 'Teen', 'Art & Design', 'June 8, 2018', 'Varies with device', '4.2 and up']\n",
      "\n",
      "\n",
      "Number of rows: 8863\n",
      "Number of columns: 13\n",
      "\n",
      "\n",
      "['284882215', 'Facebook', '389879808', 'USD', '0.0', '2974676', '212', '3.5', '3.5', '95.0', '4+', 'Social Networking', '37', '1', '29', '1']\n",
      "\n",
      "\n",
      "['389801252', 'Instagram', '113954816', 'USD', '0.0', '2161558', '1289', '4.5', '4.0', '10.23', '12+', 'Photo & Video', '37', '0', '29', '1']\n",
      "\n",
      "\n",
      "['529479190', 'Clash of Clans', '116476928', 'USD', '0.0', '2130805', '579', '4.5', '4.5', '9.24.12', '9+', 'Games', '38', '5', '18', '1']\n",
      "\n",
      "\n",
      "Number of rows: 3222\n",
      "Number of columns: 16\n"
     ]
    }
   ],
   "source": [
    "android_final = []\n",
    "ios_final = []\n",
    "\n",
    "for app in android_English:\n",
    "    price = (app[6])\n",
    "    if price == 'Free':\n",
    "        android_final.append(app)\n",
    "        \n",
    "for app in ios_English:\n",
    "    price = float(app[4])\n",
    "    if price == 0:\n",
    "        ios_final.append(app)\n",
    "        \n",
    "explore_data(android_final, 0, 3, True)\n",
    "print('\\n')\n",
    "explore_data(ios_final, 0, 3, True)"
   ]
  },
  {
   "cell_type": "markdown",
   "metadata": {},
   "source": [
    "クリーニングの結果、androidは8863個、iOSは3222個残った"
   ]
  },
  {
   "cell_type": "code",
   "execution_count": 15,
   "metadata": {
    "collapsed": false
   },
   "outputs": [
    {
     "name": "stdout",
     "output_type": "stream",
     "text": [
      "Games : 58.16263190564867\n",
      "Entertainment : 7.883302296710118\n",
      "Photo & Video : 4.9658597144630665\n",
      "Education : 3.662321539416512\n",
      "Social Networking : 3.2898820608317814\n",
      "Shopping : 2.60707635009311\n",
      "Utilities : 2.5139664804469275\n",
      "Sports : 2.1415270018621975\n",
      "Music : 2.0484171322160147\n",
      "Health & Fitness : 2.0173805090006205\n",
      "Productivity : 1.7380509000620732\n",
      "Lifestyle : 1.5828677839851024\n",
      "News : 1.3345747982619491\n",
      "Travel : 1.2414649286157666\n",
      "Finance : 1.1173184357541899\n",
      "Weather : 0.8690254500310366\n",
      "Food & Drink : 0.8069522036002483\n",
      "Reference : 0.5586592178770949\n",
      "Business : 0.5276225946617008\n",
      "Book : 0.4345127250155183\n",
      "Navigation : 0.186219739292365\n",
      "Medical : 0.186219739292365\n",
      "Catalogs : 0.12414649286157665\n"
     ]
    }
   ],
   "source": [
    "def freq_table(dataset, index):\n",
    "    table = {}\n",
    "    total = 0\n",
    "    \n",
    "    for row in dataset:\n",
    "        total += 1\n",
    "        if row[index] in table:\n",
    "            table[row[index]] += 1\n",
    "        else:\n",
    "            table[row[index]] = 1\n",
    "            \n",
    "    table_percentage = {}\n",
    "    for key in table:\n",
    "        percentage = table[key] / total * 100\n",
    "        table_percentage[key] = percentage\n",
    "        \n",
    "    return table_percentage\n",
    "\n",
    "def display_table(dataset, index):\n",
    "    table = freq_table(dataset, index)\n",
    "    table_display = []\n",
    "    for key in table:\n",
    "        key_val_as_tuple = (table[key], key)\n",
    "        table_display.append(key_val_as_tuple)\n",
    "        \n",
    "    table_sorted = sorted(table_display, reverse = True) #降順\n",
    "    for entry in table_sorted:\n",
    "        print(entry[1], ':', entry[0])\n",
    "    \n",
    "display_table(ios_final, -5)"
   ]
  },
  {
   "cell_type": "markdown",
   "metadata": {
    "collapsed": true
   },
   "source": [
    "無料の英語版アプリにおいて、`Games`が過半数をしめており、`Entertainment`が次点でありおよそ8％を占める。他のジャンルは5％に満たない。概観でいうと、ほとんどが娯楽目的のアプリである一方、実用的なアプリは極めて少ない。しかし、娯楽用のアプリがほとんどであることが、このジャンルのアプリのユーザー数が最も"
   ]
  },
  {
   "cell_type": "code",
   "execution_count": 16,
   "metadata": {
    "collapsed": false
   },
   "outputs": [
    {
     "name": "stdout",
     "output_type": "stream",
     "text": [
      "FAMILY : 18.898792733837304\n",
      "GAME : 9.725826469592688\n",
      "TOOLS : 8.462146000225657\n",
      "BUSINESS : 4.592124562789123\n",
      "LIFESTYLE : 3.9038700214374367\n",
      "PRODUCTIVITY : 3.8925871601038025\n",
      "FINANCE : 3.7007785174320205\n",
      "MEDICAL : 3.5315355974275078\n",
      "SPORTS : 3.396141261423897\n",
      "PERSONALIZATION : 3.317161232088458\n",
      "COMMUNICATION : 3.2381812027530184\n",
      "HEALTH_AND_FITNESS : 3.0802211440821394\n",
      "PHOTOGRAPHY : 2.944826808078529\n",
      "NEWS_AND_MAGAZINES : 2.798149610741284\n",
      "SOCIAL : 2.6627552747376737\n",
      "TRAVEL_AND_LOCAL : 2.335552296062281\n",
      "SHOPPING : 2.245289405393208\n",
      "BOOKS_AND_REFERENCE : 2.1437436533904997\n",
      "DATING : 1.8616721200496444\n",
      "VIDEO_PLAYERS : 1.7939749520478394\n",
      "MAPS_AND_NAVIGATION : 1.399074805370642\n",
      "FOOD_AND_DRINK : 1.241114746699763\n",
      "EDUCATION : 1.1621347173643235\n",
      "ENTERTAINMENT : 0.9590432133589079\n",
      "LIBRARIES_AND_DEMO : 0.9364774906916393\n",
      "AUTO_AND_VEHICLES : 0.9251946293580051\n",
      "HOUSE_AND_HOME : 0.8236488773552973\n",
      "WEATHER : 0.8010831546880289\n",
      "EVENTS : 0.7108202640189552\n",
      "PARENTING : 0.6544059573507841\n",
      "ART_AND_DESIGN : 0.6431230960171499\n",
      "COMICS : 0.6205573733498815\n",
      "BEAUTY : 0.5979916506826132\n"
     ]
    }
   ],
   "source": [
    "display_table(android_final, 1)"
   ]
  },
  {
   "cell_type": "markdown",
   "metadata": {
    "collapsed": true
   },
   "source": [
    "Google Play Storeでは、`'family'`が最も多いカテゴリーである。App Storeに比べると`'Games'`は多くない。一方で、実用的なカテゴリー(TOOLS,BUSINESS,LIFESTYLE,PRODUCTIVITY,FINANCE,etc.)はApp Storeにおいて占める割合よりも大きい。２つのジャンルが同程度を占めている。"
   ]
  },
  {
   "cell_type": "code",
   "execution_count": 17,
   "metadata": {
    "collapsed": false
   },
   "outputs": [
    {
     "name": "stdout",
     "output_type": "stream",
     "text": [
      "Tools : 8.450863138892023\n",
      "Entertainment : 6.070179397495204\n",
      "Education : 5.348076272142616\n",
      "Business : 4.592124562789123\n",
      "Productivity : 3.8925871601038025\n",
      "Lifestyle : 3.8925871601038025\n",
      "Finance : 3.7007785174320205\n",
      "Medical : 3.5315355974275078\n",
      "Sports : 3.463838429425702\n",
      "Personalization : 3.317161232088458\n",
      "Communication : 3.2381812027530184\n",
      "Action : 3.102786866749408\n",
      "Health & Fitness : 3.0802211440821394\n",
      "Photography : 2.944826808078529\n",
      "News & Magazines : 2.798149610741284\n",
      "Social : 2.6627552747376737\n",
      "Travel & Local : 2.324269434728647\n",
      "Shopping : 2.245289405393208\n",
      "Books & Reference : 2.1437436533904997\n",
      "Simulation : 2.042197901387792\n",
      "Dating : 1.8616721200496444\n",
      "Arcade : 1.8503892587160102\n",
      "Video Players & Editors : 1.771409229380571\n",
      "Casual : 1.7601263680469368\n",
      "Maps & Navigation : 1.399074805370642\n",
      "Food & Drink : 1.241114746699763\n",
      "Puzzle : 1.128286133363421\n",
      "Racing : 0.9928917973598104\n",
      "Role Playing : 0.9364774906916393\n",
      "Libraries & Demo : 0.9364774906916393\n",
      "Auto & Vehicles : 0.9251946293580051\n",
      "Strategy : 0.9026289066907368\n",
      "House & Home : 0.8236488773552973\n",
      "Weather : 0.8010831546880289\n",
      "Events : 0.7108202640189552\n",
      "Adventure : 0.6769716800180525\n",
      "Comics : 0.6092745120162473\n",
      "Beauty : 0.5979916506826132\n",
      "Art & Design : 0.5979916506826132\n",
      "Parenting : 0.4964458986799052\n",
      "Card : 0.4513144533453684\n",
      "Casino : 0.42874873067809993\n",
      "Trivia : 0.4174658693444658\n",
      "Educational;Education : 0.3949001466771973\n",
      "Board : 0.38361728534356315\n",
      "Educational : 0.37233442400992894\n",
      "Education;Education : 0.33848584000902626\n",
      "Word : 0.25950581067358686\n",
      "Casual;Pretend Play : 0.2369400880063184\n",
      "Music : 0.20309150400541578\n",
      "Racing;Action & Adventure : 0.16924292000451313\n",
      "Puzzle;Brain Games : 0.16924292000451313\n",
      "Entertainment;Music & Video : 0.16924292000451313\n",
      "Casual;Brain Games : 0.1353943360036105\n",
      "Casual;Action & Adventure : 0.1353943360036105\n",
      "Arcade;Action & Adventure : 0.1241114746699763\n",
      "Action;Action & Adventure : 0.10154575200270789\n",
      "Educational;Pretend Play : 0.09026289066907367\n",
      "Simulation;Action & Adventure : 0.07898002933543948\n",
      "Parenting;Education : 0.07898002933543948\n",
      "Entertainment;Brain Games : 0.07898002933543948\n",
      "Board;Brain Games : 0.07898002933543948\n",
      "Parenting;Music & Video : 0.06769716800180525\n",
      "Educational;Brain Games : 0.06769716800180525\n",
      "Casual;Creativity : 0.06769716800180525\n",
      "Art & Design;Creativity : 0.06769716800180525\n",
      "Education;Pretend Play : 0.05641430666817105\n",
      "Role Playing;Pretend Play : 0.045131445334536835\n",
      "Education;Creativity : 0.045131445334536835\n",
      "Role Playing;Action & Adventure : 0.033848584000902626\n",
      "Puzzle;Action & Adventure : 0.033848584000902626\n",
      "Entertainment;Creativity : 0.033848584000902626\n",
      "Entertainment;Action & Adventure : 0.033848584000902626\n",
      "Educational;Creativity : 0.033848584000902626\n",
      "Educational;Action & Adventure : 0.033848584000902626\n",
      "Education;Music & Video : 0.033848584000902626\n",
      "Education;Brain Games : 0.033848584000902626\n",
      "Education;Action & Adventure : 0.033848584000902626\n",
      "Adventure;Action & Adventure : 0.033848584000902626\n",
      "Video Players & Editors;Music & Video : 0.022565722667268417\n",
      "Sports;Action & Adventure : 0.022565722667268417\n",
      "Simulation;Pretend Play : 0.022565722667268417\n",
      "Puzzle;Creativity : 0.022565722667268417\n",
      "Music;Music & Video : 0.022565722667268417\n",
      "Entertainment;Pretend Play : 0.022565722667268417\n",
      "Casual;Education : 0.022565722667268417\n",
      "Board;Action & Adventure : 0.022565722667268417\n",
      "Video Players & Editors;Creativity : 0.011282861333634209\n",
      "Trivia;Education : 0.011282861333634209\n",
      "Travel & Local;Action & Adventure : 0.011282861333634209\n",
      "Tools;Education : 0.011282861333634209\n",
      "Strategy;Education : 0.011282861333634209\n",
      "Strategy;Creativity : 0.011282861333634209\n",
      "Strategy;Action & Adventure : 0.011282861333634209\n",
      "Simulation;Education : 0.011282861333634209\n",
      "Role Playing;Brain Games : 0.011282861333634209\n",
      "Racing;Pretend Play : 0.011282861333634209\n",
      "Puzzle;Education : 0.011282861333634209\n",
      "Parenting;Brain Games : 0.011282861333634209\n",
      "Music & Audio;Music & Video : 0.011282861333634209\n",
      "Lifestyle;Pretend Play : 0.011282861333634209\n",
      "Lifestyle;Education : 0.011282861333634209\n",
      "Health & Fitness;Education : 0.011282861333634209\n",
      "Health & Fitness;Action & Adventure : 0.011282861333634209\n",
      "Entertainment;Education : 0.011282861333634209\n",
      "Communication;Creativity : 0.011282861333634209\n",
      "Comics;Creativity : 0.011282861333634209\n",
      "Casual;Music & Video : 0.011282861333634209\n",
      "Card;Action & Adventure : 0.011282861333634209\n",
      "Books & Reference;Education : 0.011282861333634209\n",
      "Art & Design;Pretend Play : 0.011282861333634209\n",
      "Art & Design;Action & Adventure : 0.011282861333634209\n",
      "Arcade;Pretend Play : 0.011282861333634209\n",
      "Adventure;Education : 0.011282861333634209\n"
     ]
    }
   ],
   "source": [
    "display_table(android_final, -4)"
   ]
  },
  {
   "cell_type": "markdown",
   "metadata": {},
   "source": [
    "genreはcategoryよりもずっと細かに分けられている。"
   ]
  },
  {
   "cell_type": "markdown",
   "metadata": {},
   "source": [
    "# Most Popular Apps by Genre on App Store"
   ]
  },
  {
   "cell_type": "code",
   "execution_count": 18,
   "metadata": {
    "collapsed": false
   },
   "outputs": [
    {
     "name": "stdout",
     "output_type": "stream",
     "text": [
      "{'Finance': 1.1173184357541899, 'Productivity': 1.7380509000620732, 'Catalogs': 0.12414649286157665, 'Book': 0.4345127250155183, 'Education': 3.662321539416512, 'Business': 0.5276225946617008, 'Shopping': 2.60707635009311, 'Navigation': 0.186219739292365, 'Food & Drink': 0.8069522036002483, 'Games': 58.16263190564867, 'Reference': 0.5586592178770949, 'Health & Fitness': 2.0173805090006205, 'Utilities': 2.5139664804469275, 'Sports': 2.1415270018621975, 'News': 1.3345747982619491, 'Entertainment': 7.883302296710118, 'Weather': 0.8690254500310366, 'Photo & Video': 4.9658597144630665, 'Lifestyle': 1.5828677839851024, 'Social Networking': 3.2898820608317814, 'Music': 2.0484171322160147, 'Travel': 1.2414649286157666, 'Medical': 0.186219739292365}\n"
     ]
    }
   ],
   "source": [
    "ios_genres_fb = freq_table(ios_final, -5)\n",
    "print(ios_genres_fb)"
   ]
  },
  {
   "cell_type": "code",
   "execution_count": 19,
   "metadata": {
    "collapsed": false
   },
   "outputs": [
    {
     "name": "stdout",
     "output_type": "stream",
     "text": [
      "Finance : 31467.944444444445\n",
      "Productivity : 21028.410714285714\n",
      "Catalogs : 4004.0\n",
      "Book : 39758.5\n",
      "Education : 7003.983050847458\n",
      "Business : 7491.117647058823\n",
      "Shopping : 26919.690476190477\n",
      "Navigation : 86090.33333333333\n",
      "Food & Drink : 33333.92307692308\n",
      "Games : 22788.6696905016\n",
      "Reference : 74942.11111111111\n",
      "Health & Fitness : 23298.015384615384\n",
      "Utilities : 18684.456790123455\n",
      "Sports : 23008.898550724636\n",
      "News : 21248.023255813954\n",
      "Entertainment : 14029.830708661417\n",
      "Weather : 52279.892857142855\n",
      "Photo & Video : 28441.54375\n",
      "Lifestyle : 16485.764705882353\n",
      "Social Networking : 71548.34905660378\n",
      "Music : 57326.530303030304\n",
      "Travel : 28243.8\n",
      "Medical : 612.0\n"
     ]
    }
   ],
   "source": [
    "for genre in ios_genres_fb:\n",
    "    total = 0\n",
    "    len_genre = 0\n",
    "    for app in ios_final:\n",
    "        genre_app = app[-5]\n",
    "        if genre_app == genre:\n",
    "            a_number_of_user_rating = float(app[5])\n",
    "            total += a_number_of_user_rating\n",
    "            len_genre += 1\n",
    "        \n",
    "    average_num_user_rating = total / len_genre\n",
    "    print(genre, ':', average_num_user_rating)\n",
    "    "
   ]
  },
  {
   "cell_type": "markdown",
   "metadata": {},
   "source": [
    "各ジャンルのユーザー評価総数を平均してみると、`'Navigation'`が最も大きな値となった。これはGoogleマップのユーザーが非常に多いためであると考える。"
   ]
  },
  {
   "cell_type": "markdown",
   "metadata": {},
   "source": [
    "# Most Popular App by Genre on Google Play"
   ]
  },
  {
   "cell_type": "code",
   "execution_count": 20,
   "metadata": {
    "collapsed": false
   },
   "outputs": [
    {
     "name": "stdout",
     "output_type": "stream",
     "text": [
      "{'EDUCATION': 1.1621347173643235, 'HEALTH_AND_FITNESS': 3.0802211440821394, 'EVENTS': 0.7108202640189552, 'HOUSE_AND_HOME': 0.8236488773552973, 'BEAUTY': 0.5979916506826132, 'MEDICAL': 3.5315355974275078, 'MAPS_AND_NAVIGATION': 1.399074805370642, 'COMICS': 0.6205573733498815, 'SOCIAL': 2.6627552747376737, 'PARENTING': 0.6544059573507841, 'PRODUCTIVITY': 3.8925871601038025, 'VIDEO_PLAYERS': 1.7939749520478394, 'TRAVEL_AND_LOCAL': 2.335552296062281, 'LIFESTYLE': 3.9038700214374367, 'GAME': 9.725826469592688, 'FAMILY': 18.898792733837304, 'SPORTS': 3.396141261423897, 'AUTO_AND_VEHICLES': 0.9251946293580051, 'ART_AND_DESIGN': 0.6431230960171499, 'DATING': 1.8616721200496444, 'BOOKS_AND_REFERENCE': 2.1437436533904997, 'BUSINESS': 4.592124562789123, 'PHOTOGRAPHY': 2.944826808078529, 'WEATHER': 0.8010831546880289, 'FOOD_AND_DRINK': 1.241114746699763, 'TOOLS': 8.462146000225657, 'FINANCE': 3.7007785174320205, 'PERSONALIZATION': 3.317161232088458, 'COMMUNICATION': 3.2381812027530184, 'NEWS_AND_MAGAZINES': 2.798149610741284, 'SHOPPING': 2.245289405393208, 'LIBRARIES_AND_DEMO': 0.9364774906916393, 'ENTERTAINMENT': 0.9590432133589079}\n"
     ]
    }
   ],
   "source": [
    "android_category_ft = freq_table(android_final, 1)\n",
    "print(android_category_ft)"
   ]
  },
  {
   "cell_type": "code",
   "execution_count": 22,
   "metadata": {
    "collapsed": false
   },
   "outputs": [
    {
     "name": "stdout",
     "output_type": "stream",
     "text": [
      "EDUCATION : 1833495.145631068\n",
      "HEALTH_AND_FITNESS : 4188821.9853479853\n",
      "EVENTS : 253542.22222222222\n",
      "HOUSE_AND_HOME : 1331540.5616438356\n",
      "BEAUTY : 513151.88679245283\n",
      "MEDICAL : 120550.61980830671\n",
      "MAPS_AND_NAVIGATION : 4056941.7741935486\n",
      "COMICS : 817657.2727272727\n",
      "SOCIAL : 23253652.127118643\n",
      "PARENTING : 542603.6206896552\n",
      "PRODUCTIVITY : 16787331.344927534\n",
      "VIDEO_PLAYERS : 24727872.452830188\n",
      "TRAVEL_AND_LOCAL : 13984077.710144928\n",
      "LIFESTYLE : 1437816.2687861272\n",
      "GAME : 15588015.603248259\n",
      "FAMILY : 3697848.1731343283\n",
      "SPORTS : 3638640.1428571427\n",
      "AUTO_AND_VEHICLES : 647317.8170731707\n",
      "ART_AND_DESIGN : 1986335.0877192982\n",
      "DATING : 854028.8303030303\n",
      "BOOKS_AND_REFERENCE : 8767811.894736841\n",
      "BUSINESS : 1712290.1474201474\n",
      "PHOTOGRAPHY : 17840110.40229885\n",
      "WEATHER : 5074486.197183099\n",
      "FOOD_AND_DRINK : 1924897.7363636363\n",
      "TOOLS : 10801391.298666667\n",
      "FINANCE : 1387692.475609756\n",
      "PERSONALIZATION : 5201482.6122448975\n",
      "COMMUNICATION : 38456119.167247385\n",
      "NEWS_AND_MAGAZINES : 9549178.467741935\n",
      "SHOPPING : 7036877.311557789\n",
      "LIBRARIES_AND_DEMO : 638503.734939759\n",
      "ENTERTAINMENT : 11640705.88235294\n"
     ]
    }
   ],
   "source": [
    "for category in android_category_ft:\n",
    "    total = 0\n",
    "    len_category = 0\n",
    "    for app in android_final:\n",
    "        category_app = app[1]\n",
    "        if category_app == category:\n",
    "            n_installs = app[5]\n",
    "            n_installs = n_installs.replace('+', '')\n",
    "            n_installs = n_installs.replace(',', '')\n",
    "            total += float(n_installs)\n",
    "            len_category += 1\n",
    "    \n",
    "    avg_n_installs = total / len_category\n",
    "    print(category, ':', avg_n_installs)"
   ]
  },
  {
   "cell_type": "markdown",
   "metadata": {},
   "source": [
    "`'COMMUNICATION'`アプリのインストール数が最も多い。これは、非常に多くのユーザーを持つアプリ(WhatsApp, Facebook Messenger, Skype, Google Chrome, Gmail, etc)のインストール数が極端に大きな値、すなわち外れ値をとることで、平均値が歪曲されているためであると考えられる。"
   ]
  }
 ],
 "metadata": {
  "kernelspec": {
   "display_name": "Python 3",
   "language": "python",
   "name": "python3"
  },
  "language_info": {
   "codemirror_mode": {
    "name": "ipython",
    "version": 3
   },
   "file_extension": ".py",
   "mimetype": "text/x-python",
   "name": "python",
   "nbconvert_exporter": "python",
   "pygments_lexer": "ipython3",
   "version": "3.4.3"
  }
 },
 "nbformat": 4,
 "nbformat_minor": 2
}
