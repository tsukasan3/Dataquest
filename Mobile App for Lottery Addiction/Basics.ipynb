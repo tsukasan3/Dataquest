{
 "cells": [
  {
   "cell_type": "markdown",
   "metadata": {},
   "source": [
    "# Mobile App for Lottery Addiction\n",
    "\n",
    "医療機関が宝くじ中毒者むけに[6/49 lottery](https://en.wikipedia.org/wiki/Lotto_6/49)で当選する確率を見積もれるアプリの作成を依頼してきた、と仮定する。本プロジェクトの目的はこのアプリのコアとなる、当選確率の計算を行う関数の作成である。"
   ]
  },
  {
   "cell_type": "markdown",
   "metadata": {},
   "source": [
    "# Core Functions\n",
    "\n",
    "階乗と組み合わせを計算する関数を作る"
   ]
  },
  {
   "cell_type": "code",
   "execution_count": 1,
   "metadata": {
    "collapsed": true
   },
   "outputs": [],
   "source": [
    "def factrial(n):\n",
    "    final_product = 1\n",
    "    for i in range(n, 0, -1):\n",
    "        final_product *= i\n",
    "    return final_product\n",
    "\n",
    "def combinations(n, k):\n",
    "    numerator = factrial(n)\n",
    "    denominator = factrial(k) * factrial(n-k)\n",
    "    return numerator / denominator"
   ]
  },
  {
   "cell_type": "markdown",
   "metadata": {},
   "source": [
    "# One-ticket Probability\n",
    "\n",
    "宝くじを一枚買った時に、一等が当たる確率を計算する機能を搭載する。ロト6/49の宝くじには、1から49の49個の数字のうち6つの数字が数列の形で記されている。一等に当選するためには、自分の持っている宝くじの数列が本数字の数列と完全に一致する必要がある。\n",
    "\n",
    "はじめに述べた機能を作るにあたり、以下のことに注意する：\n",
    "* アプリ内で、ユーザーは1から49のうち6つの異なる数字を入力する。\n",
    "* 6つの数字はPythonのリストとして扱い、すなわち、関数への入力はひとつである。\n",
    "* 確率の知識がないユーザーでも理解しやすいように出力方法を工夫する。"
   ]
  },
  {
   "cell_type": "code",
   "execution_count": 2,
   "metadata": {
    "collapsed": true
   },
   "outputs": [],
   "source": [
    "def one_ticket_probability(user_numbers):\n",
    "    n_combinations = combinations(49, 6)\n",
    "    probability_one_ticket = 1/n_combinations\n",
    "    percentage_form = probability_one_ticket * 100\n",
    "    \n",
    "    print('''あなたの宝くじの数列が{}の時、一等が当たる確率は{:.7f}％です。つまり、一等が当たる可能性は{:,}分の1です。'''\n",
    "          .format(user_numbers, percentage_form, int(n_combinations)))"
   ]
  },
  {
   "cell_type": "markdown",
   "metadata": {},
   "source": [
    "関数が機能するかどうか異なる２つのリストを用いてテストする。ここで、関数が正しければ、テストで出力される確率は一致する。"
   ]
  },
  {
   "cell_type": "code",
   "execution_count": 3,
   "metadata": {
    "collapsed": false
   },
   "outputs": [
    {
     "name": "stdout",
     "output_type": "stream",
     "text": [
      "あなたの宝くじの数列が[1, 33, 45, 25, 6, 8]の時、一等が当たる確率は0.0000072％です。つまり、一等が当たる可能性は13,983,816分の1です。\n"
     ]
    }
   ],
   "source": [
    "list_1 = [1, 33, 45, 25, 6, 8]\n",
    "one_ticket_probability(list_1)"
   ]
  },
  {
   "cell_type": "code",
   "execution_count": 4,
   "metadata": {
    "collapsed": false
   },
   "outputs": [
    {
     "name": "stdout",
     "output_type": "stream",
     "text": [
      "あなたの宝くじの数列が[3, 21, 22, 43, 5, 34]の時、一等が当たる確率は0.0000072％です。つまり、一等が当たる可能性は13,983,816分の1です。\n"
     ]
    }
   ],
   "source": [
    "list_2 = [3, 21, 22, 43, 5, 34]\n",
    "one_ticket_probability(list_2)"
   ]
  },
  {
   "cell_type": "markdown",
   "metadata": {},
   "source": [
    "# Historical Data Check for Canada Lottery\n",
    "\n",
    "ユーザーが自分のロトチケットと過去のロトデータとを見比べて、今までに勝っていたかどうか確かめることができるようにする。\n",
    "まずは、ロトデータ`649.csv`について知ることから始める。"
   ]
  },
  {
   "cell_type": "code",
   "execution_count": 5,
   "metadata": {
    "collapsed": false
   },
   "outputs": [
    {
     "name": "stdout",
     "output_type": "stream",
     "text": [
      "(3665, 11)\n"
     ]
    }
   ],
   "source": [
    "import pandas as pd\n",
    "\n",
    "lottery_canada = pd.read_csv('649.csv')\n",
    "print(lottery_canada.shape)"
   ]
  },
  {
   "cell_type": "code",
   "execution_count": 6,
   "metadata": {
    "collapsed": false
   },
   "outputs": [
    {
     "name": "stdout",
     "output_type": "stream",
     "text": [
      "   PRODUCT  DRAW NUMBER  SEQUENCE NUMBER  DRAW DATE  NUMBER DRAWN 1  \\\n",
      "0      649            1                0  6/12/1982               3   \n",
      "1      649            2                0  6/19/1982               8   \n",
      "2      649            3                0  6/26/1982               1   \n",
      "\n",
      "   NUMBER DRAWN 2  NUMBER DRAWN 3  NUMBER DRAWN 4  NUMBER DRAWN 5  \\\n",
      "0              11              12              14              41   \n",
      "1              33              36              37              39   \n",
      "2               6              23              24              27   \n",
      "\n",
      "   NUMBER DRAWN 6  BONUS NUMBER  \n",
      "0              43            13  \n",
      "1              41             9  \n",
      "2              39            34  \n",
      "      PRODUCT  DRAW NUMBER  SEQUENCE NUMBER  DRAW DATE  NUMBER DRAWN 1  \\\n",
      "3662      649         3589                0  6/13/2018               6   \n",
      "3663      649         3590                0  6/16/2018               2   \n",
      "3664      649         3591                0  6/20/2018              14   \n",
      "\n",
      "      NUMBER DRAWN 2  NUMBER DRAWN 3  NUMBER DRAWN 4  NUMBER DRAWN 5  \\\n",
      "3662              22              24              31              32   \n",
      "3663              15              21              31              38   \n",
      "3664              24              31              35              37   \n",
      "\n",
      "      NUMBER DRAWN 6  BONUS NUMBER  \n",
      "3662              34            16  \n",
      "3663              49             8  \n",
      "3664              48            17  \n"
     ]
    }
   ],
   "source": [
    "print(lottery_canada.head(3))\n",
    "print(lottery_canada.tail(3))"
   ]
  },
  {
   "cell_type": "markdown",
   "metadata": {},
   "source": [
    "# Function for Historical Data Check\n",
    "\n",
    "ユーザーが自分のチケットと過去の本数字を比較して、これまでにチケットの数列が一等と一致していたことがあるかどうかを確かめることができるような機能を作る。\n",
    "\n",
    "以下の点に注意する：\n",
    "* ユーザーは1〜49のうち6つの異なる数字を入力する。\n",
    "* その数列を、Pythonのリストとして扱い、関数にリストを入力する。\n",
    "* チケットの数列が過去の本数字と一致した回数と、次の抽選で一等をとる確率を、わかりやすく出力する。"
   ]
  },
  {
   "cell_type": "code",
   "execution_count": 7,
   "metadata": {
    "collapsed": false
   },
   "outputs": [
    {
     "data": {
      "text/plain": [
       "0    {3, 41, 11, 12, 43, 14}\n",
       "1    {33, 36, 37, 39, 8, 41}\n",
       "2     {1, 6, 39, 23, 24, 27}\n",
       "3     {3, 9, 10, 43, 13, 20}\n",
       "4    {34, 5, 14, 47, 21, 31}\n",
       "dtype: object"
      ]
     },
     "execution_count": 7,
     "metadata": {},
     "output_type": "execute_result"
    }
   ],
   "source": [
    "def extract_numbers(row):\n",
    "    row = row[4:10]\n",
    "    row = set(row.values)\n",
    "    return row\n",
    "\n",
    "winning_numbers = lottery_canada.apply(extract_numbers, axis=1)\n",
    "winning_numbers.head()"
   ]
  },
  {
   "cell_type": "code",
   "execution_count": 8,
   "metadata": {
    "collapsed": true
   },
   "outputs": [],
   "source": [
    "def check_historical_occurrence(user_numbers, historical_numbers):   \n",
    "    '''\n",
    "    user_numbers: a Python list\n",
    "    historical numbers: a pandas Series\n",
    "    '''\n",
    "    \n",
    "    user_numbers_set = set(user_numbers)\n",
    "    check_occurrence = historical_numbers == user_numbers_set\n",
    "    number_matchs = check_occurrence.sum()\n",
    "    \n",
    "    if number_matchs == 0:\n",
    "        print('''{}は過去に一度も本数字になったことがありません。\\n一等が当たる確率は0.0000072％です。つまり、一等が当選する可能性は13,983,816分の1です'''\n",
    "             .format(user_numbers))\n",
    "    else:\n",
    "        print('''{}は過去に{}回本数字になったことがあります。\\n一等が当たる確率は0.0000072％です。つまり、一等が当選する可能性は13,983,816分の1です'''\n",
    "             .format(user_numbers, number_matchs))  "
   ]
  },
  {
   "cell_type": "markdown",
   "metadata": {},
   "source": [
    "テストする。"
   ]
  },
  {
   "cell_type": "code",
   "execution_count": 9,
   "metadata": {
    "collapsed": false
   },
   "outputs": [
    {
     "name": "stdout",
     "output_type": "stream",
     "text": [
      "[1, 33, 45, 25, 6, 8]は過去に一度も本数字になったことがありません。\n",
      "一等が当たる確率は0.0000072％です。つまり、一等が当選する可能性は13,983,816分の1です\n"
     ]
    }
   ],
   "source": [
    "test_1 = [1, 33, 45, 25, 6, 8]\n",
    "check_historical_occurrence(test_1, winning_numbers)"
   ]
  },
  {
   "cell_type": "code",
   "execution_count": 10,
   "metadata": {
    "collapsed": false
   },
   "outputs": [
    {
     "name": "stdout",
     "output_type": "stream",
     "text": [
      "[3, 41, 11, 12, 43, 14]は過去に1回本数字になったことがあります。\n",
      "一等が当たる確率は0.0000072％です。つまり、一等が当選する可能性は13,983,816分の1です\n"
     ]
    }
   ],
   "source": [
    "test_2 = [3, 41, 11, 12, 43, 14]\n",
    "check_historical_occurrence(test_2, winning_numbers)"
   ]
  },
  {
   "cell_type": "markdown",
   "metadata": {},
   "source": [
    " # Multi-ticket Probability\n",
    " \n",
    " 1枚以上(1~13983826)チケットを購入したときに、一等を当選する確率を出力する関数を作る"
   ]
  },
  {
   "cell_type": "code",
   "execution_count": 11,
   "metadata": {
    "collapsed": false
   },
   "outputs": [],
   "source": [
    "def multi_ticket_probability(n_tickets):\n",
    "    n_combination = combinations(49, 6)\n",
    "    probability = n_tickets / n_combination\n",
    "    percentage = probability * 100\n",
    "    \n",
    "    if n_tickets == 1:\n",
    "        print('''チケット一枚で一等が当たる確率は{:.7f}％です。この時、一等が当選する可能性は{:,}分の1です。'''\n",
    "             .format(percentage, int(n_combination)))\n",
    "    else:\n",
    "        combination_simplified = round(n_combination / n_tickets)\n",
    "        print('''チケット{}種類で一等が当たる確率は{:.7f}％です。この時、一等が当選する可能性は{:,}分の1です。'''\n",
    "             .format(n_tickets, percentage, combination_simplified))"
   ]
  },
  {
   "cell_type": "markdown",
   "metadata": {},
   "source": [
    "テスト"
   ]
  },
  {
   "cell_type": "code",
   "execution_count": 12,
   "metadata": {
    "collapsed": false
   },
   "outputs": [
    {
     "name": "stdout",
     "output_type": "stream",
     "text": [
      "チケット一枚で一等が当たる確率は0.0000072％です。この時、一等が当選する可能性は13,983,816分の1です。\n",
      "------------------------\n",
      "チケット10種類で一等が当たる確率は0.0000715％です。この時、一等が当選する可能性は1,398,382分の1です。\n",
      "------------------------\n",
      "チケット100種類で一等が当たる確率は0.0007151％です。この時、一等が当選する可能性は139,838分の1です。\n",
      "------------------------\n",
      "チケット10000種類で一等が当たる確率は0.0715112％です。この時、一等が当選する可能性は1,398分の1です。\n",
      "------------------------\n",
      "チケット1000000種類で一等が当たる確率は7.1511238％です。この時、一等が当選する可能性は14分の1です。\n",
      "------------------------\n",
      "チケット6991908種類で一等が当たる確率は50.0000000％です。この時、一等が当選する可能性は2分の1です。\n",
      "------------------------\n",
      "チケット13983816種類で一等が当たる確率は100.0000000％です。この時、一等が当選する可能性は1分の1です。\n",
      "------------------------\n"
     ]
    }
   ],
   "source": [
    "test_numbers = [1, 10, 100, 10000, 1000000, 6991908, 13983816]\n",
    "\n",
    "for number in test_numbers:\n",
    "    multi_ticket_probability(number)\n",
    "    print('------------------------')"
   ]
  },
  {
   "cell_type": "markdown",
   "metadata": {},
   "source": [
    "# Less Winning Numbers\n",
    "\n",
    "6つの数字のうち、2~5つが一致する確率を求める関数を定義する"
   ]
  },
  {
   "cell_type": "code",
   "execution_count": 13,
   "metadata": {
    "collapsed": true
   },
   "outputs": [],
   "source": [
    "def probability_less_6(n_winning_numbers):\n",
    "    n_combinations_ticket = combinations(6, n_winning_numbers)\n",
    "    n_combinations_remaining = combinations(43, 6 - n_winning_numbers)\n",
    "    prize_outcomes = n_combinations_ticket * n_combinations_remaining\n",
    "    \n",
    "    n_combination = combinations(49, 6)\n",
    "    probability = prize_outcomes / n_combination\n",
    "    \n",
    "    percentage = probability * 100\n",
    "    combination_simplified = round(n_combination / prize_outcomes)\n",
    "    print('''数字が{}つ一致する確率は{:.6f}％です。すなわち、{}分の1です。'''\n",
    "         .format(n_winning_numbers, percentage, int(combination_simplified)))"
   ]
  },
  {
   "cell_type": "code",
   "execution_count": 14,
   "metadata": {
    "collapsed": false
   },
   "outputs": [
    {
     "name": "stdout",
     "output_type": "stream",
     "text": [
      "数字が2つ一致する確率は13.237803％です。すなわち、8分の1です。\n",
      "None\n",
      "数字が3つ一致する確率は1.765040％です。すなわち、57分の1です。\n",
      "None\n",
      "数字が4つ一致する確率は0.096862％です。すなわち、1032分の1です。\n",
      "None\n",
      "数字が5つ一致する確率は0.001845％です。すなわち、54201分の1です。\n",
      "None\n"
     ]
    }
   ],
   "source": [
    "test_2_5 = [2, 3, 4, 5]\n",
    "\n",
    "for i in test_2_5:\n",
    "    print(probability_less_6(i))"
   ]
  },
  {
   "cell_type": "code",
   "execution_count": null,
   "metadata": {
    "collapsed": true
   },
   "outputs": [],
   "source": []
  }
 ],
 "metadata": {
  "kernelspec": {
   "display_name": "Python 3",
   "language": "python",
   "name": "python3"
  },
  "language_info": {
   "codemirror_mode": {
    "name": "ipython",
    "version": 3
   },
   "file_extension": ".py",
   "mimetype": "text/x-python",
   "name": "python",
   "nbconvert_exporter": "python",
   "pygments_lexer": "ipython3",
   "version": "3.4.3"
  }
 },
 "nbformat": 4,
 "nbformat_minor": 2
}
